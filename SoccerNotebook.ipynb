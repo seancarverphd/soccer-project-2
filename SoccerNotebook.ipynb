{
 "cells": [
  {
   "cell_type": "code",
   "execution_count": 17,
   "metadata": {},
   "outputs": [],
   "source": [
    "import sqlite3\n",
    "import pandas as pd\n",
    "con = sqlite3.connect(\"database.sqlite\", timeout=10)\n",
    "c = con.cursor()"
   ]
  },
  {
   "cell_type": "code",
   "execution_count": 18,
   "metadata": {},
   "outputs": [
    {
     "data": {
      "text/html": [
       "<div>\n",
       "<style scoped>\n",
       "    .dataframe tbody tr th:only-of-type {\n",
       "        vertical-align: middle;\n",
       "    }\n",
       "\n",
       "    .dataframe tbody tr th {\n",
       "        vertical-align: top;\n",
       "    }\n",
       "\n",
       "    .dataframe thead th {\n",
       "        text-align: right;\n",
       "    }\n",
       "</style>\n",
       "<table border=\"1\" class=\"dataframe\">\n",
       "  <thead>\n",
       "    <tr style=\"text-align: right;\">\n",
       "      <th></th>\n",
       "      <th>name</th>\n",
       "    </tr>\n",
       "  </thead>\n",
       "  <tbody>\n",
       "    <tr>\n",
       "      <th>0</th>\n",
       "      <td>sqlite_sequence</td>\n",
       "    </tr>\n",
       "    <tr>\n",
       "      <th>1</th>\n",
       "      <td>Matches</td>\n",
       "    </tr>\n",
       "    <tr>\n",
       "      <th>2</th>\n",
       "      <td>Teams_in_Matches</td>\n",
       "    </tr>\n",
       "    <tr>\n",
       "      <th>3</th>\n",
       "      <td>Teams</td>\n",
       "    </tr>\n",
       "    <tr>\n",
       "      <th>4</th>\n",
       "      <td>Unique_Teams</td>\n",
       "    </tr>\n",
       "    <tr>\n",
       "      <th>5</th>\n",
       "      <td>Teams2011</td>\n",
       "    </tr>\n",
       "  </tbody>\n",
       "</table>\n",
       "</div>"
      ],
      "text/plain": [
       "               name\n",
       "0   sqlite_sequence\n",
       "1           Matches\n",
       "2  Teams_in_Matches\n",
       "3             Teams\n",
       "4      Unique_Teams\n",
       "5         Teams2011"
      ]
     },
     "execution_count": 18,
     "metadata": {},
     "output_type": "execute_result"
    }
   ],
   "source": [
    "c.execute(\"SELECT name FROM sqlite_master WHERE type='table';\")\n",
    "tabs = pd.DataFrame(c.fetchall())\n",
    "tabs.columns = [x[0] for x in c.description]\n",
    "tabs"
   ]
  },
  {
   "cell_type": "markdown",
   "metadata": {},
   "source": [
    "The \"Teams2011\" Table is the Table that was added below.  Let's look at each of the other Tables."
   ]
  },
  {
   "cell_type": "code",
   "execution_count": 151,
   "metadata": {},
   "outputs": [
    {
     "data": {
      "text/html": [
       "<div>\n",
       "<style scoped>\n",
       "    .dataframe tbody tr th:only-of-type {\n",
       "        vertical-align: middle;\n",
       "    }\n",
       "\n",
       "    .dataframe tbody tr th {\n",
       "        vertical-align: top;\n",
       "    }\n",
       "\n",
       "    .dataframe thead th {\n",
       "        text-align: right;\n",
       "    }\n",
       "</style>\n",
       "<table border=\"1\" class=\"dataframe\">\n",
       "  <thead>\n",
       "    <tr style=\"text-align: right;\">\n",
       "      <th></th>\n",
       "      <th>name</th>\n",
       "      <th>seq</th>\n",
       "    </tr>\n",
       "  </thead>\n",
       "  <tbody>\n",
       "    <tr>\n",
       "      <th>0</th>\n",
       "      <td>Matches</td>\n",
       "      <td>46774</td>\n",
       "    </tr>\n",
       "    <tr>\n",
       "      <th>1</th>\n",
       "      <td>Unique_Teams</td>\n",
       "      <td>128</td>\n",
       "    </tr>\n",
       "  </tbody>\n",
       "</table>\n",
       "</div>"
      ],
      "text/plain": [
       "           name    seq\n",
       "0       Matches  46774\n",
       "1  Unique_Teams    128"
      ]
     },
     "execution_count": 151,
     "metadata": {},
     "output_type": "execute_result"
    }
   ],
   "source": [
    "c.execute(\"SELECT * FROM sqlite_sequence\")\n",
    "seq = pd.DataFrame(c.fetchall())\n",
    "seq.columns = [x[0] for x in c.description]\n",
    "seq.head()"
   ]
  },
  {
   "cell_type": "code",
   "execution_count": 152,
   "metadata": {},
   "outputs": [
    {
     "data": {
      "text/html": [
       "<div>\n",
       "<style scoped>\n",
       "    .dataframe tbody tr th:only-of-type {\n",
       "        vertical-align: middle;\n",
       "    }\n",
       "\n",
       "    .dataframe tbody tr th {\n",
       "        vertical-align: top;\n",
       "    }\n",
       "\n",
       "    .dataframe thead th {\n",
       "        text-align: right;\n",
       "    }\n",
       "</style>\n",
       "<table border=\"1\" class=\"dataframe\">\n",
       "  <thead>\n",
       "    <tr style=\"text-align: right;\">\n",
       "      <th></th>\n",
       "      <th>Match_ID</th>\n",
       "      <th>Div</th>\n",
       "      <th>Season</th>\n",
       "      <th>Date</th>\n",
       "      <th>HomeTeam</th>\n",
       "      <th>AwayTeam</th>\n",
       "      <th>FTHG</th>\n",
       "      <th>FTAG</th>\n",
       "      <th>FTR</th>\n",
       "    </tr>\n",
       "  </thead>\n",
       "  <tbody>\n",
       "    <tr>\n",
       "      <th>0</th>\n",
       "      <td>1</td>\n",
       "      <td>D2</td>\n",
       "      <td>2009</td>\n",
       "      <td>2010-04-04</td>\n",
       "      <td>Oberhausen</td>\n",
       "      <td>Kaiserslautern</td>\n",
       "      <td>2</td>\n",
       "      <td>1</td>\n",
       "      <td>H</td>\n",
       "    </tr>\n",
       "    <tr>\n",
       "      <th>1</th>\n",
       "      <td>2</td>\n",
       "      <td>D2</td>\n",
       "      <td>2009</td>\n",
       "      <td>2009-11-01</td>\n",
       "      <td>Munich 1860</td>\n",
       "      <td>Kaiserslautern</td>\n",
       "      <td>0</td>\n",
       "      <td>1</td>\n",
       "      <td>A</td>\n",
       "    </tr>\n",
       "    <tr>\n",
       "      <th>2</th>\n",
       "      <td>3</td>\n",
       "      <td>D2</td>\n",
       "      <td>2009</td>\n",
       "      <td>2009-10-04</td>\n",
       "      <td>Frankfurt FSV</td>\n",
       "      <td>Kaiserslautern</td>\n",
       "      <td>1</td>\n",
       "      <td>1</td>\n",
       "      <td>D</td>\n",
       "    </tr>\n",
       "    <tr>\n",
       "      <th>3</th>\n",
       "      <td>4</td>\n",
       "      <td>D2</td>\n",
       "      <td>2009</td>\n",
       "      <td>2010-02-21</td>\n",
       "      <td>Frankfurt FSV</td>\n",
       "      <td>Karlsruhe</td>\n",
       "      <td>2</td>\n",
       "      <td>1</td>\n",
       "      <td>H</td>\n",
       "    </tr>\n",
       "    <tr>\n",
       "      <th>4</th>\n",
       "      <td>5</td>\n",
       "      <td>D2</td>\n",
       "      <td>2009</td>\n",
       "      <td>2009-12-06</td>\n",
       "      <td>Ahlen</td>\n",
       "      <td>Karlsruhe</td>\n",
       "      <td>1</td>\n",
       "      <td>3</td>\n",
       "      <td>A</td>\n",
       "    </tr>\n",
       "    <tr>\n",
       "      <th>5</th>\n",
       "      <td>6</td>\n",
       "      <td>D2</td>\n",
       "      <td>2009</td>\n",
       "      <td>2010-04-03</td>\n",
       "      <td>Union Berlin</td>\n",
       "      <td>Karlsruhe</td>\n",
       "      <td>1</td>\n",
       "      <td>1</td>\n",
       "      <td>D</td>\n",
       "    </tr>\n",
       "    <tr>\n",
       "      <th>6</th>\n",
       "      <td>7</td>\n",
       "      <td>D2</td>\n",
       "      <td>2009</td>\n",
       "      <td>2009-08-14</td>\n",
       "      <td>Paderborn</td>\n",
       "      <td>Karlsruhe</td>\n",
       "      <td>2</td>\n",
       "      <td>0</td>\n",
       "      <td>H</td>\n",
       "    </tr>\n",
       "    <tr>\n",
       "      <th>7</th>\n",
       "      <td>8</td>\n",
       "      <td>D2</td>\n",
       "      <td>2009</td>\n",
       "      <td>2010-03-08</td>\n",
       "      <td>Bielefeld</td>\n",
       "      <td>Karlsruhe</td>\n",
       "      <td>0</td>\n",
       "      <td>1</td>\n",
       "      <td>A</td>\n",
       "    </tr>\n",
       "    <tr>\n",
       "      <th>8</th>\n",
       "      <td>9</td>\n",
       "      <td>D2</td>\n",
       "      <td>2009</td>\n",
       "      <td>2009-09-26</td>\n",
       "      <td>Kaiserslautern</td>\n",
       "      <td>Karlsruhe</td>\n",
       "      <td>2</td>\n",
       "      <td>0</td>\n",
       "      <td>H</td>\n",
       "    </tr>\n",
       "    <tr>\n",
       "      <th>9</th>\n",
       "      <td>10</td>\n",
       "      <td>D2</td>\n",
       "      <td>2009</td>\n",
       "      <td>2009-11-21</td>\n",
       "      <td>Hansa Rostock</td>\n",
       "      <td>Karlsruhe</td>\n",
       "      <td>2</td>\n",
       "      <td>1</td>\n",
       "      <td>H</td>\n",
       "    </tr>\n",
       "  </tbody>\n",
       "</table>\n",
       "</div>"
      ],
      "text/plain": [
       "   Match_ID Div  Season        Date        HomeTeam        AwayTeam  FTHG  \\\n",
       "0         1  D2    2009  2010-04-04      Oberhausen  Kaiserslautern     2   \n",
       "1         2  D2    2009  2009-11-01     Munich 1860  Kaiserslautern     0   \n",
       "2         3  D2    2009  2009-10-04   Frankfurt FSV  Kaiserslautern     1   \n",
       "3         4  D2    2009  2010-02-21   Frankfurt FSV       Karlsruhe     2   \n",
       "4         5  D2    2009  2009-12-06           Ahlen       Karlsruhe     1   \n",
       "5         6  D2    2009  2010-04-03    Union Berlin       Karlsruhe     1   \n",
       "6         7  D2    2009  2009-08-14       Paderborn       Karlsruhe     2   \n",
       "7         8  D2    2009  2010-03-08       Bielefeld       Karlsruhe     0   \n",
       "8         9  D2    2009  2009-09-26  Kaiserslautern       Karlsruhe     2   \n",
       "9        10  D2    2009  2009-11-21   Hansa Rostock       Karlsruhe     2   \n",
       "\n",
       "   FTAG FTR  \n",
       "0     1   H  \n",
       "1     1   A  \n",
       "2     1   D  \n",
       "3     1   H  \n",
       "4     3   A  \n",
       "5     1   D  \n",
       "6     0   H  \n",
       "7     1   A  \n",
       "8     0   H  \n",
       "9     1   H  "
      ]
     },
     "execution_count": 152,
     "metadata": {},
     "output_type": "execute_result"
    }
   ],
   "source": [
    "c.execute(\"SELECT * FROM Matches LIMIT 10\")\n",
    "mat = pd.DataFrame(c.fetchall())\n",
    "mat.columns = [x[0] for x in c.description]\n",
    "mat"
   ]
  },
  {
   "cell_type": "code",
   "execution_count": 153,
   "metadata": {},
   "outputs": [
    {
     "data": {
      "text/html": [
       "<div>\n",
       "<style scoped>\n",
       "    .dataframe tbody tr th:only-of-type {\n",
       "        vertical-align: middle;\n",
       "    }\n",
       "\n",
       "    .dataframe tbody tr th {\n",
       "        vertical-align: top;\n",
       "    }\n",
       "\n",
       "    .dataframe thead th {\n",
       "        text-align: right;\n",
       "    }\n",
       "</style>\n",
       "<table border=\"1\" class=\"dataframe\">\n",
       "  <thead>\n",
       "    <tr style=\"text-align: right;\">\n",
       "      <th></th>\n",
       "      <th>Match_ID</th>\n",
       "      <th>Unique_Team_ID</th>\n",
       "    </tr>\n",
       "  </thead>\n",
       "  <tbody>\n",
       "    <tr>\n",
       "      <th>0</th>\n",
       "      <td>1</td>\n",
       "      <td>26</td>\n",
       "    </tr>\n",
       "    <tr>\n",
       "      <th>1</th>\n",
       "      <td>1</td>\n",
       "      <td>46</td>\n",
       "    </tr>\n",
       "    <tr>\n",
       "      <th>2</th>\n",
       "      <td>2</td>\n",
       "      <td>26</td>\n",
       "    </tr>\n",
       "    <tr>\n",
       "      <th>3</th>\n",
       "      <td>2</td>\n",
       "      <td>42</td>\n",
       "    </tr>\n",
       "    <tr>\n",
       "      <th>4</th>\n",
       "      <td>3</td>\n",
       "      <td>26</td>\n",
       "    </tr>\n",
       "    <tr>\n",
       "      <th>5</th>\n",
       "      <td>3</td>\n",
       "      <td>44</td>\n",
       "    </tr>\n",
       "    <tr>\n",
       "      <th>6</th>\n",
       "      <td>4</td>\n",
       "      <td>29</td>\n",
       "    </tr>\n",
       "    <tr>\n",
       "      <th>7</th>\n",
       "      <td>4</td>\n",
       "      <td>44</td>\n",
       "    </tr>\n",
       "    <tr>\n",
       "      <th>8</th>\n",
       "      <td>5</td>\n",
       "      <td>29</td>\n",
       "    </tr>\n",
       "    <tr>\n",
       "      <th>9</th>\n",
       "      <td>5</td>\n",
       "      <td>49</td>\n",
       "    </tr>\n",
       "  </tbody>\n",
       "</table>\n",
       "</div>"
      ],
      "text/plain": [
       "   Match_ID  Unique_Team_ID\n",
       "0         1              26\n",
       "1         1              46\n",
       "2         2              26\n",
       "3         2              42\n",
       "4         3              26\n",
       "5         3              44\n",
       "6         4              29\n",
       "7         4              44\n",
       "8         5              29\n",
       "9         5              49"
      ]
     },
     "execution_count": 153,
     "metadata": {},
     "output_type": "execute_result"
    }
   ],
   "source": [
    "c.execute(\"SELECT * FROM Teams_in_Matches LIMIT 10\")\n",
    "tim = pd.DataFrame(c.fetchall())\n",
    "tim.columns = [x[0] for x in c.description]\n",
    "tim"
   ]
  },
  {
   "cell_type": "code",
   "execution_count": 154,
   "metadata": {},
   "outputs": [
    {
     "data": {
      "text/html": [
       "<div>\n",
       "<style scoped>\n",
       "    .dataframe tbody tr th:only-of-type {\n",
       "        vertical-align: middle;\n",
       "    }\n",
       "\n",
       "    .dataframe tbody tr th {\n",
       "        vertical-align: top;\n",
       "    }\n",
       "\n",
       "    .dataframe thead th {\n",
       "        text-align: right;\n",
       "    }\n",
       "</style>\n",
       "<table border=\"1\" class=\"dataframe\">\n",
       "  <thead>\n",
       "    <tr style=\"text-align: right;\">\n",
       "      <th></th>\n",
       "      <th>Season</th>\n",
       "      <th>TeamName</th>\n",
       "      <th>KaderHome</th>\n",
       "      <th>AvgAgeHome</th>\n",
       "      <th>ForeignPlayersHome</th>\n",
       "      <th>OverallMarketValueHome</th>\n",
       "      <th>AvgMarketValueHome</th>\n",
       "      <th>StadiumCapacity</th>\n",
       "    </tr>\n",
       "  </thead>\n",
       "  <tbody>\n",
       "    <tr>\n",
       "      <th>0</th>\n",
       "      <td>2017</td>\n",
       "      <td>Bayern Munich</td>\n",
       "      <td>27</td>\n",
       "      <td>26</td>\n",
       "      <td>15</td>\n",
       "      <td>597950000</td>\n",
       "      <td>22150000</td>\n",
       "      <td>75000</td>\n",
       "    </tr>\n",
       "    <tr>\n",
       "      <th>1</th>\n",
       "      <td>2017</td>\n",
       "      <td>Dortmund</td>\n",
       "      <td>33</td>\n",
       "      <td>25</td>\n",
       "      <td>18</td>\n",
       "      <td>416730000</td>\n",
       "      <td>12630000</td>\n",
       "      <td>81359</td>\n",
       "    </tr>\n",
       "    <tr>\n",
       "      <th>2</th>\n",
       "      <td>2017</td>\n",
       "      <td>Leverkusen</td>\n",
       "      <td>31</td>\n",
       "      <td>24</td>\n",
       "      <td>15</td>\n",
       "      <td>222600000</td>\n",
       "      <td>7180000</td>\n",
       "      <td>30210</td>\n",
       "    </tr>\n",
       "    <tr>\n",
       "      <th>3</th>\n",
       "      <td>2017</td>\n",
       "      <td>RB Leipzig</td>\n",
       "      <td>30</td>\n",
       "      <td>23</td>\n",
       "      <td>15</td>\n",
       "      <td>180130000</td>\n",
       "      <td>6000000</td>\n",
       "      <td>42959</td>\n",
       "    </tr>\n",
       "    <tr>\n",
       "      <th>4</th>\n",
       "      <td>2017</td>\n",
       "      <td>Schalke 04</td>\n",
       "      <td>29</td>\n",
       "      <td>24</td>\n",
       "      <td>17</td>\n",
       "      <td>179550000</td>\n",
       "      <td>6190000</td>\n",
       "      <td>62271</td>\n",
       "    </tr>\n",
       "    <tr>\n",
       "      <th>5</th>\n",
       "      <td>2017</td>\n",
       "      <td>M'gladbach</td>\n",
       "      <td>31</td>\n",
       "      <td>25</td>\n",
       "      <td>17</td>\n",
       "      <td>154400000</td>\n",
       "      <td>4980000</td>\n",
       "      <td>54014</td>\n",
       "    </tr>\n",
       "    <tr>\n",
       "      <th>6</th>\n",
       "      <td>2017</td>\n",
       "      <td>Wolfsburg</td>\n",
       "      <td>31</td>\n",
       "      <td>24</td>\n",
       "      <td>14</td>\n",
       "      <td>124430000</td>\n",
       "      <td>4010000</td>\n",
       "      <td>30000</td>\n",
       "    </tr>\n",
       "    <tr>\n",
       "      <th>7</th>\n",
       "      <td>2017</td>\n",
       "      <td>FC Koln</td>\n",
       "      <td>24</td>\n",
       "      <td>26</td>\n",
       "      <td>9</td>\n",
       "      <td>118550000</td>\n",
       "      <td>4940000</td>\n",
       "      <td>49968</td>\n",
       "    </tr>\n",
       "    <tr>\n",
       "      <th>8</th>\n",
       "      <td>2017</td>\n",
       "      <td>Hoffenheim</td>\n",
       "      <td>31</td>\n",
       "      <td>24</td>\n",
       "      <td>14</td>\n",
       "      <td>107330000</td>\n",
       "      <td>3460000</td>\n",
       "      <td>30164</td>\n",
       "    </tr>\n",
       "    <tr>\n",
       "      <th>9</th>\n",
       "      <td>2017</td>\n",
       "      <td>Hertha</td>\n",
       "      <td>26</td>\n",
       "      <td>26</td>\n",
       "      <td>12</td>\n",
       "      <td>86800000</td>\n",
       "      <td>3340000</td>\n",
       "      <td>74475</td>\n",
       "    </tr>\n",
       "  </tbody>\n",
       "</table>\n",
       "</div>"
      ],
      "text/plain": [
       "  Season       TeamName KaderHome AvgAgeHome ForeignPlayersHome  \\\n",
       "0   2017  Bayern Munich        27         26                 15   \n",
       "1   2017       Dortmund        33         25                 18   \n",
       "2   2017     Leverkusen        31         24                 15   \n",
       "3   2017     RB Leipzig        30         23                 15   \n",
       "4   2017     Schalke 04        29         24                 17   \n",
       "5   2017     M'gladbach        31         25                 17   \n",
       "6   2017      Wolfsburg        31         24                 14   \n",
       "7   2017        FC Koln        24         26                  9   \n",
       "8   2017     Hoffenheim        31         24                 14   \n",
       "9   2017         Hertha        26         26                 12   \n",
       "\n",
       "  OverallMarketValueHome AvgMarketValueHome StadiumCapacity  \n",
       "0              597950000           22150000           75000  \n",
       "1              416730000           12630000           81359  \n",
       "2              222600000            7180000           30210  \n",
       "3              180130000            6000000           42959  \n",
       "4              179550000            6190000           62271  \n",
       "5              154400000            4980000           54014  \n",
       "6              124430000            4010000           30000  \n",
       "7              118550000            4940000           49968  \n",
       "8              107330000            3460000           30164  \n",
       "9               86800000            3340000           74475  "
      ]
     },
     "execution_count": 154,
     "metadata": {},
     "output_type": "execute_result"
    }
   ],
   "source": [
    "c.execute(\"SELECT * FROM Teams LIMIT 10\")\n",
    "teams = pd.DataFrame(c.fetchall())\n",
    "teams.columns = [x[0] for x in c.description]\n",
    "teams"
   ]
  },
  {
   "cell_type": "code",
   "execution_count": 155,
   "metadata": {},
   "outputs": [
    {
     "data": {
      "text/html": [
       "<div>\n",
       "<style scoped>\n",
       "    .dataframe tbody tr th:only-of-type {\n",
       "        vertical-align: middle;\n",
       "    }\n",
       "\n",
       "    .dataframe tbody tr th {\n",
       "        vertical-align: top;\n",
       "    }\n",
       "\n",
       "    .dataframe thead th {\n",
       "        text-align: right;\n",
       "    }\n",
       "</style>\n",
       "<table border=\"1\" class=\"dataframe\">\n",
       "  <thead>\n",
       "    <tr style=\"text-align: right;\">\n",
       "      <th></th>\n",
       "      <th>TeamName</th>\n",
       "      <th>Unique_Team_ID</th>\n",
       "    </tr>\n",
       "  </thead>\n",
       "  <tbody>\n",
       "    <tr>\n",
       "      <th>0</th>\n",
       "      <td>Bayern Munich</td>\n",
       "      <td>1</td>\n",
       "    </tr>\n",
       "    <tr>\n",
       "      <th>1</th>\n",
       "      <td>Dortmund</td>\n",
       "      <td>2</td>\n",
       "    </tr>\n",
       "    <tr>\n",
       "      <th>2</th>\n",
       "      <td>Leverkusen</td>\n",
       "      <td>3</td>\n",
       "    </tr>\n",
       "    <tr>\n",
       "      <th>3</th>\n",
       "      <td>RB Leipzig</td>\n",
       "      <td>4</td>\n",
       "    </tr>\n",
       "    <tr>\n",
       "      <th>4</th>\n",
       "      <td>Schalke 04</td>\n",
       "      <td>5</td>\n",
       "    </tr>\n",
       "    <tr>\n",
       "      <th>5</th>\n",
       "      <td>M'gladbach</td>\n",
       "      <td>6</td>\n",
       "    </tr>\n",
       "    <tr>\n",
       "      <th>6</th>\n",
       "      <td>Wolfsburg</td>\n",
       "      <td>7</td>\n",
       "    </tr>\n",
       "    <tr>\n",
       "      <th>7</th>\n",
       "      <td>FC Koln</td>\n",
       "      <td>8</td>\n",
       "    </tr>\n",
       "    <tr>\n",
       "      <th>8</th>\n",
       "      <td>Hoffenheim</td>\n",
       "      <td>9</td>\n",
       "    </tr>\n",
       "    <tr>\n",
       "      <th>9</th>\n",
       "      <td>Hertha</td>\n",
       "      <td>10</td>\n",
       "    </tr>\n",
       "  </tbody>\n",
       "</table>\n",
       "</div>"
      ],
      "text/plain": [
       "        TeamName  Unique_Team_ID\n",
       "0  Bayern Munich               1\n",
       "1       Dortmund               2\n",
       "2     Leverkusen               3\n",
       "3     RB Leipzig               4\n",
       "4     Schalke 04               5\n",
       "5     M'gladbach               6\n",
       "6      Wolfsburg               7\n",
       "7        FC Koln               8\n",
       "8     Hoffenheim               9\n",
       "9         Hertha              10"
      ]
     },
     "execution_count": 155,
     "metadata": {},
     "output_type": "execute_result"
    }
   ],
   "source": [
    "c.execute(\"SELECT * FROM Unique_Teams LIMIT 10\")\n",
    "uteams = pd.DataFrame(c.fetchall())\n",
    "uteams.columns = [x[0] for x in c.description]\n",
    "uteams"
   ]
  },
  {
   "cell_type": "code",
   "execution_count": 157,
   "metadata": {},
   "outputs": [
    {
     "data": {
      "text/plain": [
       "<sqlite3.Cursor at 0x7f91777f27a0>"
      ]
     },
     "execution_count": 157,
     "metadata": {},
     "output_type": "execute_result"
    }
   ],
   "source": [
    "c.execute(\"CREATE TABLE IF NOT EXISTS Teams2011 (team_name text, goals_scored_2011 int, wins_2011 int, visualization blob, rainy_wins_percentage float)\")"
   ]
  },
  {
   "cell_type": "code",
   "execution_count": 158,
   "metadata": {},
   "outputs": [
    {
     "data": {
      "text/html": [
       "<div>\n",
       "<style scoped>\n",
       "    .dataframe tbody tr th:only-of-type {\n",
       "        vertical-align: middle;\n",
       "    }\n",
       "\n",
       "    .dataframe tbody tr th {\n",
       "        vertical-align: top;\n",
       "    }\n",
       "\n",
       "    .dataframe thead th {\n",
       "        text-align: right;\n",
       "    }\n",
       "</style>\n",
       "<table border=\"1\" class=\"dataframe\">\n",
       "  <thead>\n",
       "    <tr style=\"text-align: right;\">\n",
       "      <th></th>\n",
       "    </tr>\n",
       "  </thead>\n",
       "  <tbody>\n",
       "  </tbody>\n",
       "</table>\n",
       "</div>"
      ],
      "text/plain": [
       "Empty DataFrame\n",
       "Columns: []\n",
       "Index: []"
      ]
     },
     "execution_count": 158,
     "metadata": {},
     "output_type": "execute_result"
    }
   ],
   "source": [
    "c.execute(\"SELECT * FROM Teams2011 LIMIT 10\")\n",
    "team11 = pd.DataFrame(c.fetchall())\n",
    "team11"
   ]
  },
  {
   "cell_type": "code",
   "execution_count": 159,
   "metadata": {},
   "outputs": [
    {
     "name": "stdout",
     "output_type": "stream",
     "text": [
      "[(128,)]\n"
     ]
    }
   ],
   "source": [
    "c.execute(\"SELECT COUNT(*) FROM Unique_Teams\")\n",
    "print(c.fetchall())"
   ]
  },
  {
   "cell_type": "code",
   "execution_count": 160,
   "metadata": {},
   "outputs": [
    {
     "name": "stdout",
     "output_type": "stream",
     "text": [
      "[(24625,)]\n"
     ]
    }
   ],
   "source": [
    "c.execute(\"SELECT COUNT(*) FROM Matches\")\n",
    "print(c.fetchall())"
   ]
  },
  {
   "cell_type": "markdown",
   "metadata": {},
   "source": [
    "Interesting.  The number of unique teams is correctly indicated in the above table, but the number of matches isn't.  We'll proceed as if it were."
   ]
  },
  {
   "cell_type": "code",
   "execution_count": 163,
   "metadata": {},
   "outputs": [
    {
     "name": "stdout",
     "output_type": "stream",
     "text": [
      "[(992,)]\n"
     ]
    }
   ],
   "source": [
    "c.execute(\"SELECT COUNT(*) FROM Matches WHERE Season=2011\")\n",
    "print(c.fetchall())"
   ]
  },
  {
   "cell_type": "code",
   "execution_count": 30,
   "metadata": {
    "scrolled": true
   },
   "outputs": [
    {
     "name": "stdout",
     "output_type": "stream",
     "text": [
      "[(56,)]\n"
     ]
    }
   ],
   "source": [
    "c.execute(\"SELECT COUNT(DISTINCT(HomeTeam)) FROM Matches WHERE Season=2011\")\n",
    "print(c.fetchall())"
   ]
  },
  {
   "cell_type": "code",
   "execution_count": 32,
   "metadata": {},
   "outputs": [
    {
     "name": "stdout",
     "output_type": "stream",
     "text": [
      "[(56,)]\n"
     ]
    }
   ],
   "source": [
    "c.execute(\"SELECT COUNT(DISTINCT(AwayTeam)) FROM Matches WHERE Season=2011\")\n",
    "print(c.fetchall())"
   ]
  },
  {
   "cell_type": "code",
   "execution_count": 187,
   "metadata": {},
   "outputs": [
    {
     "name": "stdout",
     "output_type": "stream",
     "text": [
      "56\n"
     ]
    },
    {
     "data": {
      "text/html": [
       "<div>\n",
       "<style scoped>\n",
       "    .dataframe tbody tr th:only-of-type {\n",
       "        vertical-align: middle;\n",
       "    }\n",
       "\n",
       "    .dataframe tbody tr th {\n",
       "        vertical-align: top;\n",
       "    }\n",
       "\n",
       "    .dataframe thead th {\n",
       "        text-align: right;\n",
       "    }\n",
       "</style>\n",
       "<table border=\"1\" class=\"dataframe\">\n",
       "  <thead>\n",
       "    <tr style=\"text-align: right;\">\n",
       "      <th></th>\n",
       "      <th>HomeTeam</th>\n",
       "    </tr>\n",
       "  </thead>\n",
       "  <tbody>\n",
       "    <tr>\n",
       "      <th>0</th>\n",
       "      <td>Aachen</td>\n",
       "    </tr>\n",
       "    <tr>\n",
       "      <th>1</th>\n",
       "      <td>Arsenal</td>\n",
       "    </tr>\n",
       "    <tr>\n",
       "      <th>2</th>\n",
       "      <td>Aston Villa</td>\n",
       "    </tr>\n",
       "    <tr>\n",
       "      <th>3</th>\n",
       "      <td>Augsburg</td>\n",
       "    </tr>\n",
       "    <tr>\n",
       "      <th>4</th>\n",
       "      <td>Bayern Munich</td>\n",
       "    </tr>\n",
       "  </tbody>\n",
       "</table>\n",
       "</div>"
      ],
      "text/plain": [
       "        HomeTeam\n",
       "0         Aachen\n",
       "1        Arsenal\n",
       "2    Aston Villa\n",
       "3       Augsburg\n",
       "4  Bayern Munich"
      ]
     },
     "execution_count": 187,
     "metadata": {},
     "output_type": "execute_result"
    }
   ],
   "source": [
    "c.execute(\"SELECT DISTINCT(HomeTeam) FROM Matches WHERE Season=2011 ORDER BY HomeTeam\")\n",
    "allteams = pd.DataFrame(c.fetchall())\n",
    "allteams.columns = [x[0] for x in c.description]\n",
    "print(len(allteams))\n",
    "allteams.head()"
   ]
  },
  {
   "cell_type": "markdown",
   "metadata": {},
   "source": [
    "All our team team tables from now on (involving just 2011 Season) should have 56 teams. Otherwise data will be missing."
   ]
  },
  {
   "cell_type": "code",
   "execution_count": 188,
   "metadata": {},
   "outputs": [
    {
     "name": "stdout",
     "output_type": "stream",
     "text": [
      "56\n"
     ]
    },
    {
     "data": {
      "text/html": [
       "<div>\n",
       "<style scoped>\n",
       "    .dataframe tbody tr th:only-of-type {\n",
       "        vertical-align: middle;\n",
       "    }\n",
       "\n",
       "    .dataframe tbody tr th {\n",
       "        vertical-align: top;\n",
       "    }\n",
       "\n",
       "    .dataframe thead th {\n",
       "        text-align: right;\n",
       "    }\n",
       "</style>\n",
       "<table border=\"1\" class=\"dataframe\">\n",
       "  <thead>\n",
       "    <tr style=\"text-align: right;\">\n",
       "      <th></th>\n",
       "      <th>HomeTeam</th>\n",
       "      <th>HomeGoals</th>\n",
       "    </tr>\n",
       "  </thead>\n",
       "  <tbody>\n",
       "    <tr>\n",
       "      <th>0</th>\n",
       "      <td>Aachen</td>\n",
       "      <td>15</td>\n",
       "    </tr>\n",
       "    <tr>\n",
       "      <th>1</th>\n",
       "      <td>Arsenal</td>\n",
       "      <td>39</td>\n",
       "    </tr>\n",
       "    <tr>\n",
       "      <th>2</th>\n",
       "      <td>Aston Villa</td>\n",
       "      <td>20</td>\n",
       "    </tr>\n",
       "    <tr>\n",
       "      <th>3</th>\n",
       "      <td>Augsburg</td>\n",
       "      <td>20</td>\n",
       "    </tr>\n",
       "    <tr>\n",
       "      <th>4</th>\n",
       "      <td>Bayern Munich</td>\n",
       "      <td>49</td>\n",
       "    </tr>\n",
       "  </tbody>\n",
       "</table>\n",
       "</div>"
      ],
      "text/plain": [
       "        HomeTeam  HomeGoals\n",
       "0         Aachen         15\n",
       "1        Arsenal         39\n",
       "2    Aston Villa         20\n",
       "3       Augsburg         20\n",
       "4  Bayern Munich         49"
      ]
     },
     "execution_count": 188,
     "metadata": {},
     "output_type": "execute_result"
    }
   ],
   "source": [
    "c.execute(\"SELECT HomeTeam, SUM(FTHG) AS HomeGoals FROM Matches WHERE Season=2011 GROUP BY HomeTeam ORDER BY HomeTeam\")\n",
    "home_goals = pd.DataFrame(c.fetchall())\n",
    "home_goals.columns = [x[0] for x in c.description]\n",
    "print(len(home_goals))\n",
    "home_goals.head()"
   ]
  },
  {
   "cell_type": "code",
   "execution_count": 189,
   "metadata": {},
   "outputs": [
    {
     "name": "stdout",
     "output_type": "stream",
     "text": [
      "56\n"
     ]
    },
    {
     "data": {
      "text/html": [
       "<div>\n",
       "<style scoped>\n",
       "    .dataframe tbody tr th:only-of-type {\n",
       "        vertical-align: middle;\n",
       "    }\n",
       "\n",
       "    .dataframe tbody tr th {\n",
       "        vertical-align: top;\n",
       "    }\n",
       "\n",
       "    .dataframe thead th {\n",
       "        text-align: right;\n",
       "    }\n",
       "</style>\n",
       "<table border=\"1\" class=\"dataframe\">\n",
       "  <thead>\n",
       "    <tr style=\"text-align: right;\">\n",
       "      <th></th>\n",
       "      <th>AwayTeam</th>\n",
       "      <th>AwayGoals</th>\n",
       "    </tr>\n",
       "  </thead>\n",
       "  <tbody>\n",
       "    <tr>\n",
       "      <th>0</th>\n",
       "      <td>Aachen</td>\n",
       "      <td>15</td>\n",
       "    </tr>\n",
       "    <tr>\n",
       "      <th>1</th>\n",
       "      <td>Arsenal</td>\n",
       "      <td>35</td>\n",
       "    </tr>\n",
       "    <tr>\n",
       "      <th>2</th>\n",
       "      <td>Aston Villa</td>\n",
       "      <td>17</td>\n",
       "    </tr>\n",
       "    <tr>\n",
       "      <th>3</th>\n",
       "      <td>Augsburg</td>\n",
       "      <td>16</td>\n",
       "    </tr>\n",
       "    <tr>\n",
       "      <th>4</th>\n",
       "      <td>Bayern Munich</td>\n",
       "      <td>28</td>\n",
       "    </tr>\n",
       "  </tbody>\n",
       "</table>\n",
       "</div>"
      ],
      "text/plain": [
       "        AwayTeam  AwayGoals\n",
       "0         Aachen         15\n",
       "1        Arsenal         35\n",
       "2    Aston Villa         17\n",
       "3       Augsburg         16\n",
       "4  Bayern Munich         28"
      ]
     },
     "execution_count": 189,
     "metadata": {},
     "output_type": "execute_result"
    }
   ],
   "source": [
    "c.execute(\"SELECT AwayTeam, SUM(FTAG) AS AwayGoals FROM Matches WHERE Season=2011 GROUP BY AwayTeam ORDER BY AwayTeam\")\n",
    "away_goals = pd.DataFrame(c.fetchall())\n",
    "away_goals.columns = [x[0] for x in c.description]\n",
    "print(len(away_goals))\n",
    "away_goals.head()"
   ]
  },
  {
   "cell_type": "code",
   "execution_count": 190,
   "metadata": {},
   "outputs": [
    {
     "name": "stdout",
     "output_type": "stream",
     "text": [
      "56\n"
     ]
    },
    {
     "data": {
      "text/html": [
       "<div>\n",
       "<style scoped>\n",
       "    .dataframe tbody tr th:only-of-type {\n",
       "        vertical-align: middle;\n",
       "    }\n",
       "\n",
       "    .dataframe tbody tr th {\n",
       "        vertical-align: top;\n",
       "    }\n",
       "\n",
       "    .dataframe thead th {\n",
       "        text-align: right;\n",
       "    }\n",
       "</style>\n",
       "<table border=\"1\" class=\"dataframe\">\n",
       "  <thead>\n",
       "    <tr style=\"text-align: right;\">\n",
       "      <th></th>\n",
       "      <th>Team</th>\n",
       "      <th>HomeGoals</th>\n",
       "      <th>AwayGoals</th>\n",
       "      <th>BothGoals</th>\n",
       "    </tr>\n",
       "  </thead>\n",
       "  <tbody>\n",
       "    <tr>\n",
       "      <th>0</th>\n",
       "      <td>Aachen</td>\n",
       "      <td>15</td>\n",
       "      <td>15</td>\n",
       "      <td>30</td>\n",
       "    </tr>\n",
       "    <tr>\n",
       "      <th>1</th>\n",
       "      <td>Arsenal</td>\n",
       "      <td>39</td>\n",
       "      <td>35</td>\n",
       "      <td>74</td>\n",
       "    </tr>\n",
       "    <tr>\n",
       "      <th>2</th>\n",
       "      <td>Aston Villa</td>\n",
       "      <td>20</td>\n",
       "      <td>17</td>\n",
       "      <td>37</td>\n",
       "    </tr>\n",
       "    <tr>\n",
       "      <th>3</th>\n",
       "      <td>Augsburg</td>\n",
       "      <td>20</td>\n",
       "      <td>16</td>\n",
       "      <td>36</td>\n",
       "    </tr>\n",
       "    <tr>\n",
       "      <th>4</th>\n",
       "      <td>Bayern Munich</td>\n",
       "      <td>49</td>\n",
       "      <td>28</td>\n",
       "      <td>77</td>\n",
       "    </tr>\n",
       "  </tbody>\n",
       "</table>\n",
       "</div>"
      ],
      "text/plain": [
       "            Team  HomeGoals  AwayGoals  BothGoals\n",
       "0         Aachen         15         15         30\n",
       "1        Arsenal         39         35         74\n",
       "2    Aston Villa         20         17         37\n",
       "3       Augsburg         20         16         36\n",
       "4  Bayern Munich         49         28         77"
      ]
     },
     "execution_count": 190,
     "metadata": {},
     "output_type": "execute_result"
    }
   ],
   "source": [
    "c.execute(\"DROP TABLE IF EXISTS Home\")\n",
    "c.execute(\"CREATE TABLE Home AS SELECT HomeTeam, SUM(FTHG) AS HomeGoals FROM Matches WHERE Season=2011 GROUP BY HomeTeam ORDER BY HomeTeam\")\n",
    "c.execute(\"DROP TABLE IF EXISTS Away\")\n",
    "c.execute(\"CREATE TABLE Away AS SELECT AwayTeam, SUM(FTAG) AS AwayGoals FROM Matches WHERE Season=2011 GROUP BY AwayTeam ORDER BY AwayTeam\")\n",
    "c.execute(\"SELECT Home.HomeTeam AS Team, Home.HomeGoals, Away.AwayGoals, Home.HomeGoals + Away.AwayGoals AS BothGoals FROM HOME INNER JOIN Away ON Home.HomeTeam=Away.AwayTeam\")\n",
    "HomeAway = pd.DataFrame(c.fetchall())\n",
    "HomeAway.columns = [x[0] for x in c.description]\n",
    "print(len(away_goals))\n",
    "HomeAway.head()"
   ]
  },
  {
   "cell_type": "code",
   "execution_count": 191,
   "metadata": {},
   "outputs": [
    {
     "name": "stdout",
     "output_type": "stream",
     "text": [
      "56\n"
     ]
    },
    {
     "data": {
      "text/html": [
       "<div>\n",
       "<style scoped>\n",
       "    .dataframe tbody tr th:only-of-type {\n",
       "        vertical-align: middle;\n",
       "    }\n",
       "\n",
       "    .dataframe tbody tr th {\n",
       "        vertical-align: top;\n",
       "    }\n",
       "\n",
       "    .dataframe thead th {\n",
       "        text-align: right;\n",
       "    }\n",
       "</style>\n",
       "<table border=\"1\" class=\"dataframe\">\n",
       "  <thead>\n",
       "    <tr style=\"text-align: right;\">\n",
       "      <th></th>\n",
       "      <th>HomeTeam</th>\n",
       "      <th>HomeWins</th>\n",
       "    </tr>\n",
       "  </thead>\n",
       "  <tbody>\n",
       "    <tr>\n",
       "      <th>0</th>\n",
       "      <td>Aachen</td>\n",
       "      <td>4</td>\n",
       "    </tr>\n",
       "    <tr>\n",
       "      <th>1</th>\n",
       "      <td>Arsenal</td>\n",
       "      <td>12</td>\n",
       "    </tr>\n",
       "    <tr>\n",
       "      <th>2</th>\n",
       "      <td>Aston Villa</td>\n",
       "      <td>4</td>\n",
       "    </tr>\n",
       "    <tr>\n",
       "      <th>3</th>\n",
       "      <td>Augsburg</td>\n",
       "      <td>6</td>\n",
       "    </tr>\n",
       "    <tr>\n",
       "      <th>4</th>\n",
       "      <td>Bayern Munich</td>\n",
       "      <td>14</td>\n",
       "    </tr>\n",
       "  </tbody>\n",
       "</table>\n",
       "</div>"
      ],
      "text/plain": [
       "        HomeTeam  HomeWins\n",
       "0         Aachen         4\n",
       "1        Arsenal        12\n",
       "2    Aston Villa         4\n",
       "3       Augsburg         6\n",
       "4  Bayern Munich        14"
      ]
     },
     "execution_count": 191,
     "metadata": {},
     "output_type": "execute_result"
    }
   ],
   "source": [
    "c.execute(\"SELECT HomeTeam, COUNT(HomeTeam) AS HomeWins FROM Matches WHERE FTR='H' AND Season=2011 GROUP BY HomeTeam\")\n",
    "HomeWins = pd.DataFrame(c.fetchall())\n",
    "HomeWins.columns = [x[0] for x in c.description]\n",
    "print(len(HomeWins))\n",
    "HomeWins.head()"
   ]
  },
  {
   "cell_type": "code",
   "execution_count": 192,
   "metadata": {},
   "outputs": [
    {
     "name": "stdout",
     "output_type": "stream",
     "text": [
      "56\n"
     ]
    },
    {
     "data": {
      "text/html": [
       "<div>\n",
       "<style scoped>\n",
       "    .dataframe tbody tr th:only-of-type {\n",
       "        vertical-align: middle;\n",
       "    }\n",
       "\n",
       "    .dataframe tbody tr th {\n",
       "        vertical-align: top;\n",
       "    }\n",
       "\n",
       "    .dataframe thead th {\n",
       "        text-align: right;\n",
       "    }\n",
       "</style>\n",
       "<table border=\"1\" class=\"dataframe\">\n",
       "  <thead>\n",
       "    <tr style=\"text-align: right;\">\n",
       "      <th></th>\n",
       "      <th>HomeTeam</th>\n",
       "      <th>HomeNonWins</th>\n",
       "    </tr>\n",
       "  </thead>\n",
       "  <tbody>\n",
       "    <tr>\n",
       "      <th>0</th>\n",
       "      <td>Aachen</td>\n",
       "      <td>13</td>\n",
       "    </tr>\n",
       "    <tr>\n",
       "      <th>1</th>\n",
       "      <td>Arsenal</td>\n",
       "      <td>7</td>\n",
       "    </tr>\n",
       "    <tr>\n",
       "      <th>2</th>\n",
       "      <td>Aston Villa</td>\n",
       "      <td>15</td>\n",
       "    </tr>\n",
       "    <tr>\n",
       "      <th>3</th>\n",
       "      <td>Augsburg</td>\n",
       "      <td>11</td>\n",
       "    </tr>\n",
       "    <tr>\n",
       "      <th>4</th>\n",
       "      <td>Bayern Munich</td>\n",
       "      <td>3</td>\n",
       "    </tr>\n",
       "  </tbody>\n",
       "</table>\n",
       "</div>"
      ],
      "text/plain": [
       "        HomeTeam  HomeNonWins\n",
       "0         Aachen           13\n",
       "1        Arsenal            7\n",
       "2    Aston Villa           15\n",
       "3       Augsburg           11\n",
       "4  Bayern Munich            3"
      ]
     },
     "execution_count": 192,
     "metadata": {},
     "output_type": "execute_result"
    }
   ],
   "source": [
    "c.execute(\"SELECT HomeTeam, COUNT(HomeTeam) AS HomeNonWins FROM Matches WHERE (FTR='A' OR FTR='D') AND Season=2011 GROUP BY HomeTeam\")\n",
    "HomeNonWins = pd.DataFrame(c.fetchall())\n",
    "HomeNonWins.columns = [x[0] for x in c.description]\n",
    "print(len(HomeNonWins))\n",
    "HomeNonWins.head()"
   ]
  },
  {
   "cell_type": "code",
   "execution_count": 193,
   "metadata": {
    "scrolled": true
   },
   "outputs": [
    {
     "name": "stdout",
     "output_type": "stream",
     "text": [
      "56\n"
     ]
    },
    {
     "data": {
      "text/html": [
       "<div>\n",
       "<style scoped>\n",
       "    .dataframe tbody tr th:only-of-type {\n",
       "        vertical-align: middle;\n",
       "    }\n",
       "\n",
       "    .dataframe tbody tr th {\n",
       "        vertical-align: top;\n",
       "    }\n",
       "\n",
       "    .dataframe thead th {\n",
       "        text-align: right;\n",
       "    }\n",
       "</style>\n",
       "<table border=\"1\" class=\"dataframe\">\n",
       "  <thead>\n",
       "    <tr style=\"text-align: right;\">\n",
       "      <th></th>\n",
       "      <th>HomeTeam</th>\n",
       "      <th>HomeGames</th>\n",
       "    </tr>\n",
       "  </thead>\n",
       "  <tbody>\n",
       "    <tr>\n",
       "      <th>0</th>\n",
       "      <td>Aachen</td>\n",
       "      <td>17</td>\n",
       "    </tr>\n",
       "    <tr>\n",
       "      <th>1</th>\n",
       "      <td>Arsenal</td>\n",
       "      <td>19</td>\n",
       "    </tr>\n",
       "    <tr>\n",
       "      <th>2</th>\n",
       "      <td>Aston Villa</td>\n",
       "      <td>19</td>\n",
       "    </tr>\n",
       "    <tr>\n",
       "      <th>3</th>\n",
       "      <td>Augsburg</td>\n",
       "      <td>17</td>\n",
       "    </tr>\n",
       "    <tr>\n",
       "      <th>4</th>\n",
       "      <td>Bayern Munich</td>\n",
       "      <td>17</td>\n",
       "    </tr>\n",
       "  </tbody>\n",
       "</table>\n",
       "</div>"
      ],
      "text/plain": [
       "        HomeTeam  HomeGames\n",
       "0         Aachen         17\n",
       "1        Arsenal         19\n",
       "2    Aston Villa         19\n",
       "3       Augsburg         17\n",
       "4  Bayern Munich         17"
      ]
     },
     "execution_count": 193,
     "metadata": {},
     "output_type": "execute_result"
    }
   ],
   "source": [
    "c.execute(\"SELECT HomeTeam, COUNT(HomeTeam) AS HomeGames FROM Matches WHERE Season=2011 GROUP BY HomeTeam\")\n",
    "AllHome = pd.DataFrame(c.fetchall())\n",
    "AllHome.columns = [x[0] for x in c.description]\n",
    "print(len(AllHome))\n",
    "AllHome.head()\n"
   ]
  },
  {
   "cell_type": "code",
   "execution_count": 194,
   "metadata": {},
   "outputs": [
    {
     "name": "stdout",
     "output_type": "stream",
     "text": [
      "54\n"
     ]
    },
    {
     "data": {
      "text/html": [
       "<div>\n",
       "<style scoped>\n",
       "    .dataframe tbody tr th:only-of-type {\n",
       "        vertical-align: middle;\n",
       "    }\n",
       "\n",
       "    .dataframe tbody tr th {\n",
       "        vertical-align: top;\n",
       "    }\n",
       "\n",
       "    .dataframe thead th {\n",
       "        text-align: right;\n",
       "    }\n",
       "</style>\n",
       "<table border=\"1\" class=\"dataframe\">\n",
       "  <thead>\n",
       "    <tr style=\"text-align: right;\">\n",
       "      <th></th>\n",
       "      <th>HomeTeam</th>\n",
       "      <th>HomeLosses</th>\n",
       "    </tr>\n",
       "  </thead>\n",
       "  <tbody>\n",
       "    <tr>\n",
       "      <th>0</th>\n",
       "      <td>Aachen</td>\n",
       "      <td>7</td>\n",
       "    </tr>\n",
       "    <tr>\n",
       "      <th>1</th>\n",
       "      <td>Arsenal</td>\n",
       "      <td>3</td>\n",
       "    </tr>\n",
       "    <tr>\n",
       "      <th>2</th>\n",
       "      <td>Aston Villa</td>\n",
       "      <td>8</td>\n",
       "    </tr>\n",
       "    <tr>\n",
       "      <th>3</th>\n",
       "      <td>Augsburg</td>\n",
       "      <td>4</td>\n",
       "    </tr>\n",
       "    <tr>\n",
       "      <th>4</th>\n",
       "      <td>Bayern Munich</td>\n",
       "      <td>2</td>\n",
       "    </tr>\n",
       "  </tbody>\n",
       "</table>\n",
       "</div>"
      ],
      "text/plain": [
       "        HomeTeam  HomeLosses\n",
       "0         Aachen           7\n",
       "1        Arsenal           3\n",
       "2    Aston Villa           8\n",
       "3       Augsburg           4\n",
       "4  Bayern Munich           2"
      ]
     },
     "execution_count": 194,
     "metadata": {},
     "output_type": "execute_result"
    }
   ],
   "source": [
    "c.execute(\"SELECT HomeTeam, COUNT(HomeTeam) AS HomeLosses FROM Matches WHERE FTR='A' AND Season=2011 GROUP BY HomeTeam\")\n",
    "HomeLosses = pd.DataFrame(c.fetchall())\n",
    "HomeLosses.columns = [x[0] for x in c.description]\n",
    "print(len(HomeLosses))\n",
    "HomeLosses.head()"
   ]
  },
  {
   "cell_type": "markdown",
   "metadata": {},
   "source": [
    "Interseting: len=54.  Apparently two teams had no Home Losses.  Way to go teams!"
   ]
  },
  {
   "cell_type": "code",
   "execution_count": 195,
   "metadata": {},
   "outputs": [
    {
     "name": "stdout",
     "output_type": "stream",
     "text": [
      "56\n"
     ]
    },
    {
     "data": {
      "text/html": [
       "<div>\n",
       "<style scoped>\n",
       "    .dataframe tbody tr th:only-of-type {\n",
       "        vertical-align: middle;\n",
       "    }\n",
       "\n",
       "    .dataframe tbody tr th {\n",
       "        vertical-align: top;\n",
       "    }\n",
       "\n",
       "    .dataframe thead th {\n",
       "        text-align: right;\n",
       "    }\n",
       "</style>\n",
       "<table border=\"1\" class=\"dataframe\">\n",
       "  <thead>\n",
       "    <tr style=\"text-align: right;\">\n",
       "      <th></th>\n",
       "      <th>AwayTeam</th>\n",
       "      <th>AwayWins</th>\n",
       "    </tr>\n",
       "  </thead>\n",
       "  <tbody>\n",
       "    <tr>\n",
       "      <th>0</th>\n",
       "      <td>Aachen</td>\n",
       "      <td>2</td>\n",
       "    </tr>\n",
       "    <tr>\n",
       "      <th>1</th>\n",
       "      <td>Arsenal</td>\n",
       "      <td>9</td>\n",
       "    </tr>\n",
       "    <tr>\n",
       "      <th>2</th>\n",
       "      <td>Aston Villa</td>\n",
       "      <td>3</td>\n",
       "    </tr>\n",
       "    <tr>\n",
       "      <th>3</th>\n",
       "      <td>Augsburg</td>\n",
       "      <td>2</td>\n",
       "    </tr>\n",
       "    <tr>\n",
       "      <th>4</th>\n",
       "      <td>Bayern Munich</td>\n",
       "      <td>9</td>\n",
       "    </tr>\n",
       "  </tbody>\n",
       "</table>\n",
       "</div>"
      ],
      "text/plain": [
       "        AwayTeam  AwayWins\n",
       "0         Aachen         2\n",
       "1        Arsenal         9\n",
       "2    Aston Villa         3\n",
       "3       Augsburg         2\n",
       "4  Bayern Munich         9"
      ]
     },
     "execution_count": 195,
     "metadata": {},
     "output_type": "execute_result"
    }
   ],
   "source": [
    "c.execute(\"SELECT AwayTeam, COUNT(AwayTeam) AS AwayWins FROM Matches WHERE FTR='A' AND Season=2011 GROUP BY AwayTeam\")\n",
    "AwayWins = pd.DataFrame(c.fetchall())\n",
    "AwayWins.columns = [x[0] for x in c.description]\n",
    "print(len(AwayWins))\n",
    "AwayWins.head()"
   ]
  },
  {
   "cell_type": "code",
   "execution_count": 196,
   "metadata": {},
   "outputs": [
    {
     "name": "stdout",
     "output_type": "stream",
     "text": [
      "56\n"
     ]
    },
    {
     "data": {
      "text/html": [
       "<div>\n",
       "<style scoped>\n",
       "    .dataframe tbody tr th:only-of-type {\n",
       "        vertical-align: middle;\n",
       "    }\n",
       "\n",
       "    .dataframe tbody tr th {\n",
       "        vertical-align: top;\n",
       "    }\n",
       "\n",
       "    .dataframe thead th {\n",
       "        text-align: right;\n",
       "    }\n",
       "</style>\n",
       "<table border=\"1\" class=\"dataframe\">\n",
       "  <thead>\n",
       "    <tr style=\"text-align: right;\">\n",
       "      <th></th>\n",
       "      <th>AwayTeam</th>\n",
       "      <th>AwayNonWins</th>\n",
       "    </tr>\n",
       "  </thead>\n",
       "  <tbody>\n",
       "    <tr>\n",
       "      <th>0</th>\n",
       "      <td>Aachen</td>\n",
       "      <td>15</td>\n",
       "    </tr>\n",
       "    <tr>\n",
       "      <th>1</th>\n",
       "      <td>Arsenal</td>\n",
       "      <td>10</td>\n",
       "    </tr>\n",
       "    <tr>\n",
       "      <th>2</th>\n",
       "      <td>Aston Villa</td>\n",
       "      <td>16</td>\n",
       "    </tr>\n",
       "    <tr>\n",
       "      <th>3</th>\n",
       "      <td>Augsburg</td>\n",
       "      <td>15</td>\n",
       "    </tr>\n",
       "    <tr>\n",
       "      <th>4</th>\n",
       "      <td>Bayern Munich</td>\n",
       "      <td>8</td>\n",
       "    </tr>\n",
       "  </tbody>\n",
       "</table>\n",
       "</div>"
      ],
      "text/plain": [
       "        AwayTeam  AwayNonWins\n",
       "0         Aachen           15\n",
       "1        Arsenal           10\n",
       "2    Aston Villa           16\n",
       "3       Augsburg           15\n",
       "4  Bayern Munich            8"
      ]
     },
     "execution_count": 196,
     "metadata": {},
     "output_type": "execute_result"
    }
   ],
   "source": [
    "c.execute(\"SELECT AwayTeam, COUNT(AwayTeam) AS AwayNonWins FROM Matches WHERE (FTR='H' OR FTR='D') AND Season=2011 GROUP BY AwayTeam\")\n",
    "AwayNonWins = pd.DataFrame(c.fetchall())\n",
    "AwayNonWins.columns = [x[0] for x in c.description]\n",
    "print(len(AwayNonWins))\n",
    "AwayNonWins.head()"
   ]
  },
  {
   "cell_type": "code",
   "execution_count": 197,
   "metadata": {},
   "outputs": [
    {
     "name": "stdout",
     "output_type": "stream",
     "text": [
      "56\n"
     ]
    },
    {
     "data": {
      "text/html": [
       "<div>\n",
       "<style scoped>\n",
       "    .dataframe tbody tr th:only-of-type {\n",
       "        vertical-align: middle;\n",
       "    }\n",
       "\n",
       "    .dataframe tbody tr th {\n",
       "        vertical-align: top;\n",
       "    }\n",
       "\n",
       "    .dataframe thead th {\n",
       "        text-align: right;\n",
       "    }\n",
       "</style>\n",
       "<table border=\"1\" class=\"dataframe\">\n",
       "  <thead>\n",
       "    <tr style=\"text-align: right;\">\n",
       "      <th></th>\n",
       "      <th>AwayTeam</th>\n",
       "      <th>AwayGames</th>\n",
       "    </tr>\n",
       "  </thead>\n",
       "  <tbody>\n",
       "    <tr>\n",
       "      <th>0</th>\n",
       "      <td>Aachen</td>\n",
       "      <td>17</td>\n",
       "    </tr>\n",
       "    <tr>\n",
       "      <th>1</th>\n",
       "      <td>Arsenal</td>\n",
       "      <td>19</td>\n",
       "    </tr>\n",
       "    <tr>\n",
       "      <th>2</th>\n",
       "      <td>Aston Villa</td>\n",
       "      <td>19</td>\n",
       "    </tr>\n",
       "    <tr>\n",
       "      <th>3</th>\n",
       "      <td>Augsburg</td>\n",
       "      <td>17</td>\n",
       "    </tr>\n",
       "    <tr>\n",
       "      <th>4</th>\n",
       "      <td>Bayern Munich</td>\n",
       "      <td>17</td>\n",
       "    </tr>\n",
       "  </tbody>\n",
       "</table>\n",
       "</div>"
      ],
      "text/plain": [
       "        AwayTeam  AwayGames\n",
       "0         Aachen         17\n",
       "1        Arsenal         19\n",
       "2    Aston Villa         19\n",
       "3       Augsburg         17\n",
       "4  Bayern Munich         17"
      ]
     },
     "execution_count": 197,
     "metadata": {},
     "output_type": "execute_result"
    }
   ],
   "source": [
    "c.execute(\"SELECT AwayTeam, COUNT(AwayTeam) AS AwayGames FROM Matches WHERE Season=2011 GROUP BY AwayTeam\")\n",
    "AllAway = pd.DataFrame(c.fetchall())\n",
    "AllAway.columns = [x[0] for x in c.description]\n",
    "print(len(AllAway))\n",
    "AllAway.head()\n"
   ]
  },
  {
   "cell_type": "code",
   "execution_count": 198,
   "metadata": {
    "scrolled": true
   },
   "outputs": [
    {
     "name": "stdout",
     "output_type": "stream",
     "text": [
      "56\n"
     ]
    },
    {
     "data": {
      "text/html": [
       "<div>\n",
       "<style scoped>\n",
       "    .dataframe tbody tr th:only-of-type {\n",
       "        vertical-align: middle;\n",
       "    }\n",
       "\n",
       "    .dataframe tbody tr th {\n",
       "        vertical-align: top;\n",
       "    }\n",
       "\n",
       "    .dataframe thead th {\n",
       "        text-align: right;\n",
       "    }\n",
       "</style>\n",
       "<table border=\"1\" class=\"dataframe\">\n",
       "  <thead>\n",
       "    <tr style=\"text-align: right;\">\n",
       "      <th></th>\n",
       "      <th>AwayTeam</th>\n",
       "      <th>AwayLosses</th>\n",
       "    </tr>\n",
       "  </thead>\n",
       "  <tbody>\n",
       "    <tr>\n",
       "      <th>0</th>\n",
       "      <td>Aachen</td>\n",
       "      <td>8</td>\n",
       "    </tr>\n",
       "    <tr>\n",
       "      <th>1</th>\n",
       "      <td>Arsenal</td>\n",
       "      <td>7</td>\n",
       "    </tr>\n",
       "    <tr>\n",
       "      <th>2</th>\n",
       "      <td>Aston Villa</td>\n",
       "      <td>6</td>\n",
       "    </tr>\n",
       "    <tr>\n",
       "      <th>3</th>\n",
       "      <td>Augsburg</td>\n",
       "      <td>8</td>\n",
       "    </tr>\n",
       "    <tr>\n",
       "      <th>4</th>\n",
       "      <td>Bayern Munich</td>\n",
       "      <td>5</td>\n",
       "    </tr>\n",
       "  </tbody>\n",
       "</table>\n",
       "</div>"
      ],
      "text/plain": [
       "        AwayTeam  AwayLosses\n",
       "0         Aachen           8\n",
       "1        Arsenal           7\n",
       "2    Aston Villa           6\n",
       "3       Augsburg           8\n",
       "4  Bayern Munich           5"
      ]
     },
     "execution_count": 198,
     "metadata": {},
     "output_type": "execute_result"
    }
   ],
   "source": [
    "c.execute(\"SELECT AwayTeam, COUNT(AwayTeam) AS AwayLosses FROM Matches WHERE FTR='H' AND Season=2011 GROUP BY AwayTeam\")\n",
    "AwayLosses = pd.DataFrame(c.fetchall())\n",
    "AwayLosses.columns = [x[0] for x in c.description]\n",
    "print(len(AwayLosses))\n",
    "AwayLosses.head()"
   ]
  },
  {
   "cell_type": "code",
   "execution_count": 199,
   "metadata": {},
   "outputs": [],
   "source": [
    "HomeWins.set_index('HomeTeam', inplace=True)\n",
    "HomeLosses.set_index('HomeTeam', inplace=True)\n",
    "HomeNonWins.set_index('HomeTeam', inplace=True)\n",
    "AwayWins.set_index('AwayTeam', inplace=True)\n",
    "AwayLosses.set_index('AwayTeam', inplace=True)\n",
    "AwayNonWins.set_index('AwayTeam', inplace=True)\n",
    "pass"
   ]
  },
  {
   "cell_type": "code",
   "execution_count": 216,
   "metadata": {},
   "outputs": [
    {
     "name": "stdout",
     "output_type": "stream",
     "text": [
      "56\n"
     ]
    },
    {
     "data": {
      "text/html": [
       "<div>\n",
       "<style scoped>\n",
       "    .dataframe tbody tr th:only-of-type {\n",
       "        vertical-align: middle;\n",
       "    }\n",
       "\n",
       "    .dataframe tbody tr th {\n",
       "        vertical-align: top;\n",
       "    }\n",
       "\n",
       "    .dataframe thead th {\n",
       "        text-align: right;\n",
       "    }\n",
       "</style>\n",
       "<table border=\"1\" class=\"dataframe\">\n",
       "  <thead>\n",
       "    <tr style=\"text-align: right;\">\n",
       "      <th></th>\n",
       "      <th>HomeWins</th>\n",
       "      <th>AwayWins</th>\n",
       "      <th>HomeLosses</th>\n",
       "      <th>AwayLosses</th>\n",
       "      <th>HomeNonWins</th>\n",
       "      <th>AwayNonWins</th>\n",
       "    </tr>\n",
       "    <tr>\n",
       "      <th>HomeTeam</th>\n",
       "      <th></th>\n",
       "      <th></th>\n",
       "      <th></th>\n",
       "      <th></th>\n",
       "      <th></th>\n",
       "      <th></th>\n",
       "    </tr>\n",
       "  </thead>\n",
       "  <tbody>\n",
       "    <tr>\n",
       "      <th>Aachen</th>\n",
       "      <td>4</td>\n",
       "      <td>2</td>\n",
       "      <td>7.0</td>\n",
       "      <td>8</td>\n",
       "      <td>13</td>\n",
       "      <td>15</td>\n",
       "    </tr>\n",
       "    <tr>\n",
       "      <th>Arsenal</th>\n",
       "      <td>12</td>\n",
       "      <td>9</td>\n",
       "      <td>3.0</td>\n",
       "      <td>7</td>\n",
       "      <td>7</td>\n",
       "      <td>10</td>\n",
       "    </tr>\n",
       "    <tr>\n",
       "      <th>Aston Villa</th>\n",
       "      <td>4</td>\n",
       "      <td>3</td>\n",
       "      <td>8.0</td>\n",
       "      <td>6</td>\n",
       "      <td>15</td>\n",
       "      <td>16</td>\n",
       "    </tr>\n",
       "    <tr>\n",
       "      <th>Augsburg</th>\n",
       "      <td>6</td>\n",
       "      <td>2</td>\n",
       "      <td>4.0</td>\n",
       "      <td>8</td>\n",
       "      <td>11</td>\n",
       "      <td>15</td>\n",
       "    </tr>\n",
       "    <tr>\n",
       "      <th>Bayern Munich</th>\n",
       "      <td>14</td>\n",
       "      <td>9</td>\n",
       "      <td>2.0</td>\n",
       "      <td>5</td>\n",
       "      <td>3</td>\n",
       "      <td>8</td>\n",
       "    </tr>\n",
       "  </tbody>\n",
       "</table>\n",
       "</div>"
      ],
      "text/plain": [
       "               HomeWins  AwayWins  HomeLosses  AwayLosses  HomeNonWins  \\\n",
       "HomeTeam                                                                 \n",
       "Aachen                4         2         7.0           8           13   \n",
       "Arsenal              12         9         3.0           7            7   \n",
       "Aston Villa           4         3         8.0           6           15   \n",
       "Augsburg              6         2         4.0           8           11   \n",
       "Bayern Munich        14         9         2.0           5            3   \n",
       "\n",
       "               AwayNonWins  \n",
       "HomeTeam                    \n",
       "Aachen                  15  \n",
       "Arsenal                 10  \n",
       "Aston Villa             16  \n",
       "Augsburg                15  \n",
       "Bayern Munich            8  "
      ]
     },
     "execution_count": 216,
     "metadata": {},
     "output_type": "execute_result"
    }
   ],
   "source": [
    "WinsLosses = HomeWins.join(AwayWins, how='left').join(HomeLosses, how='left').join(AwayLosses, how='left').join(HomeNonWins, how='left').join(AwayNonWins, how='left')\n",
    "print(len(WinsLosses))\n",
    "WinsLosses.head()"
   ]
  },
  {
   "cell_type": "code",
   "execution_count": 256,
   "metadata": {
    "scrolled": true
   },
   "outputs": [
    {
     "data": {
      "text/html": [
       "<div>\n",
       "<style scoped>\n",
       "    .dataframe tbody tr th:only-of-type {\n",
       "        vertical-align: middle;\n",
       "    }\n",
       "\n",
       "    .dataframe tbody tr th {\n",
       "        vertical-align: top;\n",
       "    }\n",
       "\n",
       "    .dataframe thead th {\n",
       "        text-align: right;\n",
       "    }\n",
       "</style>\n",
       "<table border=\"1\" class=\"dataframe\">\n",
       "  <thead>\n",
       "    <tr style=\"text-align: right;\">\n",
       "      <th></th>\n",
       "      <th>HomeWins</th>\n",
       "      <th>AwayWins</th>\n",
       "      <th>HomeLosses</th>\n",
       "      <th>AwayLosses</th>\n",
       "      <th>HomeNonWins</th>\n",
       "      <th>AwayNonWins</th>\n",
       "    </tr>\n",
       "    <tr>\n",
       "      <th>HomeTeam</th>\n",
       "      <th></th>\n",
       "      <th></th>\n",
       "      <th></th>\n",
       "      <th></th>\n",
       "      <th></th>\n",
       "      <th></th>\n",
       "    </tr>\n",
       "  </thead>\n",
       "  <tbody>\n",
       "    <tr>\n",
       "      <th>Hannover</th>\n",
       "      <td>10</td>\n",
       "      <td>2</td>\n",
       "      <td>NaN</td>\n",
       "      <td>10</td>\n",
       "      <td>7</td>\n",
       "      <td>15</td>\n",
       "    </tr>\n",
       "    <tr>\n",
       "      <th>Man City</th>\n",
       "      <td>18</td>\n",
       "      <td>10</td>\n",
       "      <td>NaN</td>\n",
       "      <td>5</td>\n",
       "      <td>1</td>\n",
       "      <td>9</td>\n",
       "    </tr>\n",
       "  </tbody>\n",
       "</table>\n",
       "</div>"
      ],
      "text/plain": [
       "          HomeWins  AwayWins  HomeLosses  AwayLosses  HomeNonWins  AwayNonWins\n",
       "HomeTeam                                                                      \n",
       "Hannover        10         2         NaN          10            7           15\n",
       "Man City        18        10         NaN           5            1            9"
      ]
     },
     "execution_count": 256,
     "metadata": {},
     "output_type": "execute_result"
    }
   ],
   "source": [
    "WinsLosses[WinsLosses.isna().any(axis=1)]"
   ]
  },
  {
   "cell_type": "markdown",
   "metadata": {},
   "source": [
    "**Man City** and **Hanover** had no home losses and were assigned NaNs.  The others in that column are floats.  Let's fix these problems with a new DataFrame."
   ]
  },
  {
   "cell_type": "code",
   "execution_count": 202,
   "metadata": {},
   "outputs": [],
   "source": [
    "WinLoss = WinsLosses.fillna(0).astype(int)"
   ]
  },
  {
   "cell_type": "code",
   "execution_count": 204,
   "metadata": {},
   "outputs": [
    {
     "name": "stdout",
     "output_type": "stream",
     "text": [
      "56\n"
     ]
    },
    {
     "data": {
      "text/html": [
       "<div>\n",
       "<style scoped>\n",
       "    .dataframe tbody tr th:only-of-type {\n",
       "        vertical-align: middle;\n",
       "    }\n",
       "\n",
       "    .dataframe tbody tr th {\n",
       "        vertical-align: top;\n",
       "    }\n",
       "\n",
       "    .dataframe thead th {\n",
       "        text-align: right;\n",
       "    }\n",
       "</style>\n",
       "<table border=\"1\" class=\"dataframe\">\n",
       "  <thead>\n",
       "    <tr style=\"text-align: right;\">\n",
       "      <th></th>\n",
       "      <th>HomeWins</th>\n",
       "      <th>AwayWins</th>\n",
       "      <th>HomeLosses</th>\n",
       "      <th>AwayLosses</th>\n",
       "      <th>HomeNonWins</th>\n",
       "      <th>AwayNonWins</th>\n",
       "    </tr>\n",
       "    <tr>\n",
       "      <th>HomeTeam</th>\n",
       "      <th></th>\n",
       "      <th></th>\n",
       "      <th></th>\n",
       "      <th></th>\n",
       "      <th></th>\n",
       "      <th></th>\n",
       "    </tr>\n",
       "  </thead>\n",
       "  <tbody>\n",
       "    <tr>\n",
       "      <th>Aachen</th>\n",
       "      <td>4</td>\n",
       "      <td>2</td>\n",
       "      <td>7</td>\n",
       "      <td>8</td>\n",
       "      <td>13</td>\n",
       "      <td>15</td>\n",
       "    </tr>\n",
       "    <tr>\n",
       "      <th>Arsenal</th>\n",
       "      <td>12</td>\n",
       "      <td>9</td>\n",
       "      <td>3</td>\n",
       "      <td>7</td>\n",
       "      <td>7</td>\n",
       "      <td>10</td>\n",
       "    </tr>\n",
       "    <tr>\n",
       "      <th>Aston Villa</th>\n",
       "      <td>4</td>\n",
       "      <td>3</td>\n",
       "      <td>8</td>\n",
       "      <td>6</td>\n",
       "      <td>15</td>\n",
       "      <td>16</td>\n",
       "    </tr>\n",
       "    <tr>\n",
       "      <th>Augsburg</th>\n",
       "      <td>6</td>\n",
       "      <td>2</td>\n",
       "      <td>4</td>\n",
       "      <td>8</td>\n",
       "      <td>11</td>\n",
       "      <td>15</td>\n",
       "    </tr>\n",
       "    <tr>\n",
       "      <th>Bayern Munich</th>\n",
       "      <td>14</td>\n",
       "      <td>9</td>\n",
       "      <td>2</td>\n",
       "      <td>5</td>\n",
       "      <td>3</td>\n",
       "      <td>8</td>\n",
       "    </tr>\n",
       "  </tbody>\n",
       "</table>\n",
       "</div>"
      ],
      "text/plain": [
       "               HomeWins  AwayWins  HomeLosses  AwayLosses  HomeNonWins  \\\n",
       "HomeTeam                                                                 \n",
       "Aachen                4         2           7           8           13   \n",
       "Arsenal              12         9           3           7            7   \n",
       "Aston Villa           4         3           8           6           15   \n",
       "Augsburg              6         2           4           8           11   \n",
       "Bayern Munich        14         9           2           5            3   \n",
       "\n",
       "               AwayNonWins  \n",
       "HomeTeam                    \n",
       "Aachen                  15  \n",
       "Arsenal                 10  \n",
       "Aston Villa             16  \n",
       "Augsburg                15  \n",
       "Bayern Munich            8  "
      ]
     },
     "execution_count": 204,
     "metadata": {},
     "output_type": "execute_result"
    }
   ],
   "source": [
    "print(len(WinLoss))\n",
    "WinLoss.head()"
   ]
  },
  {
   "cell_type": "code",
   "execution_count": 209,
   "metadata": {},
   "outputs": [],
   "source": [
    "WinLoss['TotalWins'] = WinLoss.HomeWins + WinLoss.AwayWins"
   ]
  },
  {
   "cell_type": "code",
   "execution_count": 210,
   "metadata": {},
   "outputs": [],
   "source": [
    "WinLoss['TotalLosses'] = WinLoss.HomeLosses + WinLoss.AwayLosses"
   ]
  },
  {
   "cell_type": "code",
   "execution_count": 211,
   "metadata": {},
   "outputs": [],
   "source": [
    "WinLoss['TotalDraws'] = (WinLoss.HomeNonWins - WinLoss.HomeLosses) + (WinLoss.AwayNonWins - WinLoss.AwayLosses)"
   ]
  },
  {
   "cell_type": "code",
   "execution_count": 212,
   "metadata": {},
   "outputs": [],
   "source": [
    "WinLoss['TotalGames'] = WinLoss.TotalWins + WinLoss.TotalLosses + WinLoss.TotalDraws"
   ]
  },
  {
   "cell_type": "code",
   "execution_count": 482,
   "metadata": {},
   "outputs": [],
   "source": [
    "WinLoss['PercentWins'] = (WinLoss.TotalWins/WinLoss.TotalGames)*100\n",
    "WinLoss['PercentLosses'] = (WinLoss.TotalLosses/WinLoss.TotalGames)*100\n",
    "WinLoss['PercentDraws'] = (WinLoss.TotalDraws/WinLoss.TotalGames)*100"
   ]
  },
  {
   "cell_type": "code",
   "execution_count": 483,
   "metadata": {},
   "outputs": [
    {
     "name": "stdout",
     "output_type": "stream",
     "text": [
      "56\n"
     ]
    },
    {
     "data": {
      "text/html": [
       "<div>\n",
       "<style scoped>\n",
       "    .dataframe tbody tr th:only-of-type {\n",
       "        vertical-align: middle;\n",
       "    }\n",
       "\n",
       "    .dataframe tbody tr th {\n",
       "        vertical-align: top;\n",
       "    }\n",
       "\n",
       "    .dataframe thead th {\n",
       "        text-align: right;\n",
       "    }\n",
       "</style>\n",
       "<table border=\"1\" class=\"dataframe\">\n",
       "  <thead>\n",
       "    <tr style=\"text-align: right;\">\n",
       "      <th></th>\n",
       "      <th>HomeWins</th>\n",
       "      <th>AwayWins</th>\n",
       "      <th>HomeLosses</th>\n",
       "      <th>AwayLosses</th>\n",
       "      <th>HomeNonWins</th>\n",
       "      <th>AwayNonWins</th>\n",
       "      <th>TotalDraws</th>\n",
       "      <th>TotalWins</th>\n",
       "      <th>TotalLosses</th>\n",
       "      <th>TotalGames</th>\n",
       "      <th>PercentWins</th>\n",
       "      <th>PercentLosses</th>\n",
       "      <th>PercentDraws</th>\n",
       "    </tr>\n",
       "    <tr>\n",
       "      <th>HomeTeam</th>\n",
       "      <th></th>\n",
       "      <th></th>\n",
       "      <th></th>\n",
       "      <th></th>\n",
       "      <th></th>\n",
       "      <th></th>\n",
       "      <th></th>\n",
       "      <th></th>\n",
       "      <th></th>\n",
       "      <th></th>\n",
       "      <th></th>\n",
       "      <th></th>\n",
       "      <th></th>\n",
       "    </tr>\n",
       "  </thead>\n",
       "  <tbody>\n",
       "    <tr>\n",
       "      <th>Aachen</th>\n",
       "      <td>4</td>\n",
       "      <td>2</td>\n",
       "      <td>7</td>\n",
       "      <td>8</td>\n",
       "      <td>13</td>\n",
       "      <td>15</td>\n",
       "      <td>13</td>\n",
       "      <td>6</td>\n",
       "      <td>15</td>\n",
       "      <td>34</td>\n",
       "      <td>17.647059</td>\n",
       "      <td>44.117647</td>\n",
       "      <td>38.235294</td>\n",
       "    </tr>\n",
       "    <tr>\n",
       "      <th>Arsenal</th>\n",
       "      <td>12</td>\n",
       "      <td>9</td>\n",
       "      <td>3</td>\n",
       "      <td>7</td>\n",
       "      <td>7</td>\n",
       "      <td>10</td>\n",
       "      <td>7</td>\n",
       "      <td>21</td>\n",
       "      <td>10</td>\n",
       "      <td>38</td>\n",
       "      <td>55.263158</td>\n",
       "      <td>26.315789</td>\n",
       "      <td>18.421053</td>\n",
       "    </tr>\n",
       "    <tr>\n",
       "      <th>Aston Villa</th>\n",
       "      <td>4</td>\n",
       "      <td>3</td>\n",
       "      <td>8</td>\n",
       "      <td>6</td>\n",
       "      <td>15</td>\n",
       "      <td>16</td>\n",
       "      <td>17</td>\n",
       "      <td>7</td>\n",
       "      <td>14</td>\n",
       "      <td>38</td>\n",
       "      <td>18.421053</td>\n",
       "      <td>36.842105</td>\n",
       "      <td>44.736842</td>\n",
       "    </tr>\n",
       "    <tr>\n",
       "      <th>Augsburg</th>\n",
       "      <td>6</td>\n",
       "      <td>2</td>\n",
       "      <td>4</td>\n",
       "      <td>8</td>\n",
       "      <td>11</td>\n",
       "      <td>15</td>\n",
       "      <td>14</td>\n",
       "      <td>8</td>\n",
       "      <td>12</td>\n",
       "      <td>34</td>\n",
       "      <td>23.529412</td>\n",
       "      <td>35.294118</td>\n",
       "      <td>41.176471</td>\n",
       "    </tr>\n",
       "    <tr>\n",
       "      <th>Bayern Munich</th>\n",
       "      <td>14</td>\n",
       "      <td>9</td>\n",
       "      <td>2</td>\n",
       "      <td>5</td>\n",
       "      <td>3</td>\n",
       "      <td>8</td>\n",
       "      <td>4</td>\n",
       "      <td>23</td>\n",
       "      <td>7</td>\n",
       "      <td>34</td>\n",
       "      <td>67.647059</td>\n",
       "      <td>20.588235</td>\n",
       "      <td>11.764706</td>\n",
       "    </tr>\n",
       "  </tbody>\n",
       "</table>\n",
       "</div>"
      ],
      "text/plain": [
       "               HomeWins  AwayWins  HomeLosses  AwayLosses  HomeNonWins  \\\n",
       "HomeTeam                                                                 \n",
       "Aachen                4         2           7           8           13   \n",
       "Arsenal              12         9           3           7            7   \n",
       "Aston Villa           4         3           8           6           15   \n",
       "Augsburg              6         2           4           8           11   \n",
       "Bayern Munich        14         9           2           5            3   \n",
       "\n",
       "               AwayNonWins  TotalDraws  TotalWins  TotalLosses  TotalGames  \\\n",
       "HomeTeam                                                                     \n",
       "Aachen                  15          13          6           15          34   \n",
       "Arsenal                 10           7         21           10          38   \n",
       "Aston Villa             16          17          7           14          38   \n",
       "Augsburg                15          14          8           12          34   \n",
       "Bayern Munich            8           4         23            7          34   \n",
       "\n",
       "               PercentWins  PercentLosses  PercentDraws  \n",
       "HomeTeam                                                 \n",
       "Aachen           17.647059      44.117647     38.235294  \n",
       "Arsenal          55.263158      26.315789     18.421053  \n",
       "Aston Villa      18.421053      36.842105     44.736842  \n",
       "Augsburg         23.529412      35.294118     41.176471  \n",
       "Bayern Munich    67.647059      20.588235     11.764706  "
      ]
     },
     "execution_count": 483,
     "metadata": {},
     "output_type": "execute_result"
    }
   ],
   "source": [
    "print(len(WinLoss))\n",
    "WinLoss.head()"
   ]
  },
  {
   "cell_type": "markdown",
   "metadata": {},
   "source": [
    "Weird.  Different teams have different TotalGames.  This demands explanation.  The sum of TotalGames should be twice the number of matches in 2011."
   ]
  },
  {
   "cell_type": "code",
   "execution_count": 486,
   "metadata": {},
   "outputs": [
    {
     "name": "stdout",
     "output_type": "stream",
     "text": [
      "NumberOfGamesWithData: 992\n"
     ]
    }
   ],
   "source": [
    "NumberOfGamesWithData = (WinLoss.TotalGames.sum()/2).astype(int)\n",
    "print(\"NumberOfGamesWithData: \" + str(NumberOfGamesWithData))"
   ]
  },
  {
   "cell_type": "code",
   "execution_count": 245,
   "metadata": {},
   "outputs": [
    {
     "name": "stdout",
     "output_type": "stream",
     "text": [
      "Confirming that this number is the same as in original Matches Table: [(992,)]\n"
     ]
    }
   ],
   "source": [
    "c.execute(\"SELECT COUNT(*) FROM Matches WHERE Season=2011\")\n",
    "print(\"Confirming that this number is the same as in original Matches Table: \"+str(c.fetchall()))"
   ]
  },
  {
   "cell_type": "markdown",
   "metadata": {},
   "source": [
    "The calculation above confirms that my WinLoss DataFrame contains all of the matches in the Matches Table of my original database, and suggests that the DataFrame was constructed correctly.  This result leaves the question unanswered.  According to Google, soccer teams in Europe each play 38 games per season \\[UPDATE: More Googling revealed that the German Soccer League plays only 34 games per season!  The Documentation on Kaggle reveals that both the German and English leagues are contained in the dataset. Problem Solved!\\].  On the other hand, if each team had played 38 games, the calculation below shows there would be 72 missing matches from the original data set for that year.  We also saw a discrepancy in the number of matches in the Matches table (too few) and number indicated in the sqlite_sequence Table.  The two discrepancies are consistent."
   ]
  },
  {
   "cell_type": "code",
   "execution_count": 488,
   "metadata": {},
   "outputs": [
    {
     "name": "stdout",
     "output_type": "stream",
     "text": [
      "MatchesExpectedIfAll56TeamsPlay38Games: 1064\n",
      "MatchesApparentlyMissing: 72\n",
      "Solution: German League Teams Play Only 34 Games Per Season!\n"
     ]
    }
   ],
   "source": [
    "MatchesExpectedFor56TeamsEach38Games = int(56*38/2)\n",
    "print(\"MatchesExpectedIfAll56TeamsPlay38Games: \" + str(MatchesExpectedFor56Teams))\n",
    "print(\"MatchesApparentlyMissing: \" + str(MatchesExpectedFor56TeamsEach38Games - NumberOfGamesWithData))\n",
    "print(\"Solution: German League Teams Play Only 34 Games Per Season!\")"
   ]
  },
  {
   "cell_type": "code",
   "execution_count": 252,
   "metadata": {},
   "outputs": [
    {
     "data": {
      "text/plain": [
       "36"
      ]
     },
     "execution_count": 252,
     "metadata": {},
     "output_type": "execute_result"
    }
   ],
   "source": [
    "WinLoss[WinLoss['TotalGames']==34].TotalGames.count()"
   ]
  },
  {
   "cell_type": "code",
   "execution_count": 253,
   "metadata": {},
   "outputs": [
    {
     "data": {
      "text/plain": [
       "20"
      ]
     },
     "execution_count": 253,
     "metadata": {},
     "output_type": "execute_result"
    }
   ],
   "source": [
    "WinLoss[WinLoss['TotalGames']==38].TotalGames.count()"
   ]
  },
  {
   "cell_type": "markdown",
   "metadata": {},
   "source": [
    "The number of teams that play 34 games and the number of teams that play 38 games sum to 56 (the total number of teams)."
   ]
  },
  {
   "cell_type": "code",
   "execution_count": 363,
   "metadata": {},
   "outputs": [],
   "source": [
    "import matplotlib.pyplot as plt\n",
    "import numpy as np\n",
    "import seaborn as sns\n",
    "import io\n",
    "from PIL import Image\n",
    "from cycler import cycler"
   ]
  },
  {
   "cell_type": "markdown",
   "metadata": {},
   "source": [
    "The instructions for this lab asked for a histogram, but they really wanted a bar plot.  Here is a histogram.  This histogram would make more sense if all teams played the same number of games (but, OK, it's close).  One solution to the problem just identified is to plot (as the quantitative variable) **the percentage (or proportion) of wins, losses, and draws (results)**.  The plot, instead of ranging from 0 to 28, would range from 0% to 100% (but, of course, the data wouldn't go that high).  What we have now (below) is **count of results** on the horizontal scale.  I chose to do the histogram this way because I wanted to compare with the plots below (which are part of the deliverable for this project).  However, I now realize that I could do the bar plots, below, with percentage, too.  If I have time, I'll redo all plots in terms of proportion, which would make better sense, leaving both in the notebook. The way I chose first was based on my interpretation of the directions, but I now see that they can be interpreted a different way.\n",
    "\n",
    "This histogram will helps us set a consistent scale for the axes of are bar plots below.  \n",
    "\n",
    "**For Counts:** Looking at this histogram, I chose 0 through 30 for counts for all bar plots for each team.  The maximum result is a count of 28, so 30 gives a little space.  After playing around with the bin width, I chose a bin width of 1.  That gives the most information and it does not seem too small for this data.  Because the results are integers, a bin width of 1 is minimal.  The distribution is visible still and it is not too broken up by the small bin width."
   ]
  },
  {
   "cell_type": "code",
   "execution_count": 496,
   "metadata": {},
   "outputs": [
    {
     "data": {
      "image/png": "[encoded data removed]",
      "text/plain": [
       "<Figure size 432x288 with 1 Axes>"
      ]
     },
     "metadata": {
      "needs_background": "light"
     },
     "output_type": "display_data"
    }
   ],
   "source": [
    "# Below are default colors for histogram.  Setting them to make colors for bar plot consistent.\n",
    "color_wins = '#1f77b4'  # Blue\n",
    "color_losses = '#ff7f0e'  # Orange\n",
    "color_draws = '#2ca02c'  # Green\n",
    "alpha_level = .45\n",
    "\n",
    "counts_binrange = np.arange(.5,30,1)\n",
    "counts_xlim = (0,30)\n",
    "counts_xticks = np.arange(0,29,4)\n",
    "\n",
    "plt.hist(WinLoss.TotalWins, alpha=alpha_level, label='Wins', color=color_wins, bins=counts_binrange)\n",
    "plt.hist(WinLoss.TotalLosses, alpha=alpha_level, label='Losses', color=color_losses, bins=counts_binrange)\n",
    "plt.hist(WinLoss.TotalDraws, alpha=alpha_level, label='Draws', color=color_draws, bins=counts_binrange)\n",
    "plt.legend()\n",
    "plt.xlim(counts_xlim)\n",
    "plt.xticks(counts_xticks)\n",
    "plt.ylim((0,10))  # Different for bar plots\n",
    "\n",
    "plt.title(\"Distribution of Number of Wins, Losses, and Draws, Across 2011 Teams\")\n",
    "plt.xlabel(\"Number of Wins, Losses or Draws\")\n",
    "plt.ylabel(\"Count of Teams with Result\")\n",
    "pass"
   ]
  },
  {
   "cell_type": "markdown",
   "metadata": {},
   "source": [
    "Now we redo the histogram in terms of percentages on the horizontal axis, instead of counts."
   ]
  },
  {
   "cell_type": "code",
   "execution_count": 507,
   "metadata": {},
   "outputs": [
    {
     "data": {
      "image/png": "[encoded data removed]",
      "text/plain": [
       "<Figure size 432x288 with 1 Axes>"
      ]
     },
     "metadata": {
      "needs_background": "light"
     },
     "output_type": "display_data"
    }
   ],
   "source": [
    "#ax = plt.subplot(1,1,1)\n",
    "percent_binrange = np.arange(0,75,5)\n",
    "percent_xlim = (0,75)\n",
    "percent_xticks = np.arange(0,75,10)\n",
    "plt.hist(WinLoss.PercentWins, alpha=alpha_level, label='Wins', bins=percent_binrange, color=color_wins)\n",
    "plt.hist(WinLoss.PercentLosses, alpha=alpha_level, label='Losses', bins=percent_binrange, color=color_losses)\n",
    "plt.hist(WinLoss.PercentDraws, alpha=alpha_level, label='Draws', bins=percent_binrange, color=color_draws)\n",
    "plt.legend()\n",
    "plt.title(\"Distribution of Percentage of Wins, Losses, and Draws, Across 2011 Teams\")\n",
    "plt.xlabel(\"Percentage of Wins, Losses or Draws\")\n",
    "plt.ylabel(\"Count of Teams in Percentage Range\")\n",
    "plt.xlim(percent_xlim)\n",
    "plt.xticks(percent_xticks)\n",
    "pass"
   ]
  },
  {
   "cell_type": "markdown",
   "metadata": {},
   "source": [
    "Now let's do a bar plot for each team.  We'll start with an example for Arsenal."
   ]
  },
  {
   "cell_type": "code",
   "execution_count": 475,
   "metadata": {
    "scrolled": true
   },
   "outputs": [
    {
     "name": "stdout",
     "output_type": "stream",
     "text": [
      "[21, 10, 7]\n",
      "[HomeWins       12\n",
      "AwayWins        9\n",
      "HomeLosses      3\n",
      "AwayLosses      7\n",
      "HomeNonWins     7\n",
      "AwayNonWins    10\n",
      "TotalDraws      7\n",
      "TotalWins      21\n",
      "TotalLosses    10\n",
      "TotalGames     38\n",
      "Name: Arsenal, dtype: int64]\n"
     ]
    }
   ],
   "source": [
    "team = 1 # Arsenal\n",
    "print([WinLoss.TotalWins.iloc[team], WinLoss.TotalLosses.iloc[team], WinLoss.TotalDraws.iloc[team]])\n",
    "print([WinLoss.loc['Arsenal',:]])\n"
   ]
  },
  {
   "cell_type": "code",
   "execution_count": 480,
   "metadata": {},
   "outputs": [],
   "source": [
    "def make_team_bar(team):\n",
    "    yrange = np.arange(2,-1, -1)  # array([2, 1, 0]), reverse order so Wins go on top.\n",
    "    xshift = .5\n",
    "    barlist = plt.barh(yrange,\n",
    "            [WinLoss.TotalWins.iloc[team], WinLoss.TotalLosses.iloc[team], WinLoss.TotalDraws.iloc[team]],\n",
    "            alpha = alpha_level)\n",
    "    plt.text(WinLoss.TotalWins.iloc[team] + xshift, yrange[0], str(WinLoss.TotalWins.iloc[team]))\n",
    "    plt.text(WinLoss.TotalLosses.iloc[team] + xshift, yrange[1], str(WinLoss.TotalLosses.iloc[team]))\n",
    "    plt.text(WinLoss.TotalDraws.iloc[team] + xshift, yrange[2], str(WinLoss.TotalDraws.iloc[team]))\n",
    "    plt.title('Results for ' + \n",
    "              WinLoss.index[team] + \n",
    "              ' 2011: (' + str(WinLoss.TotalGames.iloc[team]) +\n",
    "              ' Matches Total)')\n",
    "    plt.xlabel(\"Number of Wins, Losses or Draws\")\n",
    "    plt.yticks(yrange,['Wins','Losses','Draws'])\n",
    "    barlist[0].set_color(color_wins)  \n",
    "    barlist[1].set_color(color_losses) \n",
    "    barlist[2].set_color(color_draws)  \n",
    "\n",
    "    plt.xlim(counts_xlim)\n",
    "    plt.xticks(counts_xticks)\n",
    "\n",
    "    buf = io.BytesIO()\n",
    "    plt.savefig(buf, format='png')\n",
    "    buf.seek(0)\n",
    "    im = Image.open(buf)\n",
    "    buf.close()\n",
    "    return(im)"
   ]
  },
  {
   "cell_type": "code",
   "execution_count": 481,
   "metadata": {},
   "outputs": [
    {
     "data": {
      "text/plain": [
       "PIL.PngImagePlugin.PngImageFile"
      ]
     },
     "execution_count": 481,
     "metadata": {},
     "output_type": "execute_result"
    },
    {
     "data": {
      "image/png": "[encoded data removed]",
      "text/plain": [
       "<Figure size 432x288 with 1 Axes>"
      ]
     },
     "metadata": {
      "needs_background": "light"
     },
     "output_type": "display_data"
    }
   ],
   "source": [
    "im = make_team_bar(team=1)  # team=1 is Arsenal\n",
    "type(im)"
   ]
  },
  {
   "cell_type": "code",
   "execution_count": 471,
   "metadata": {},
   "outputs": [
    {
     "data": {
      "image/png": "[encoded data removed]",
      "text/plain": [
       "<Figure size 432x288 with 1 Axes>"
      ]
     },
     "metadata": {
      "needs_background": "light"
     },
     "output_type": "display_data"
    }
   ],
   "source": [
    "im = make_team_bar(team=12)  # team=12 is Dresden"
   ]
  },
  {
   "cell_type": "code",
   "execution_count": null,
   "metadata": {},
   "outputs": [],
   "source": []
  },
  {
   "cell_type": "code",
   "execution_count": null,
   "metadata": {},
   "outputs": [],
   "source": []
  }
 ],
 "metadata": {
  "kernelspec": {
   "display_name": "Python 3",
   "language": "python",
   "name": "python3"
  },
  "language_info": {
   "codemirror_mode": {
    "name": "ipython",
    "version": 3
   },
   "file_extension": ".py",
   "mimetype": "text/x-python",
   "name": "python",
   "nbconvert_exporter": "python",
   "pygments_lexer": "ipython3",
   "version": "3.7.3"
  }
 },
 "nbformat": 4,
 "nbformat_minor": 2
}
